{
 "cells": [
  {
   "cell_type": "code",
   "execution_count": 1,
   "id": "b8a44d08",
   "metadata": {},
   "outputs": [],
   "source": [
    "import tkinter as tk\n",
    "import numpy as np\n",
    "from powell import *"
   ]
  },
  {
   "cell_type": "code",
   "execution_count": 2,
   "id": "5cb6d513",
   "metadata": {},
   "outputs": [
    {
     "data": {
      "text/plain": [
       "''"
      ]
     },
     "execution_count": 2,
     "metadata": {},
     "output_type": "execute_result"
    }
   ],
   "source": [
    "sport=tk.Tk()\n",
    "sport.title('漸增性運動最佳化')\n",
    "sport.geometry('800x700')"
   ]
  },
  {
   "cell_type": "code",
   "execution_count": 3,
   "id": "2cee695a",
   "metadata": {},
   "outputs": [],
   "source": [
    "frame1 = tk.Frame(sport)\n",
    "frame1.grid(row=0 , column=0 ,sticky='w')\n",
    "frame2 = tk.Frame(sport)\n",
    "frame2.grid(row=1 , column=0 ,sticky='w')\n",
    "frame3 = tk.Frame(sport)\n",
    "frame3.grid(row=2 , column=0 ,sticky='w')\n",
    "frame4 = tk.Frame(sport)\n",
    "frame4.grid(row=3 , column=0 ,sticky='w')\n",
    "frame5 = tk.Frame(sport)\n",
    "frame5.grid(row=4 , column=0 ,sticky='w')\n",
    "frame6 = tk.Frame(sport)\n",
    "frame6.grid(row=5 , column=0 ,sticky='w')\n",
    "frame7 = tk.Frame(sport)\n",
    "frame7.grid(row=6 , column=0 ,sticky='w')\n",
    "frame8 = tk.Frame(sport)\n",
    "frame8.grid(row=7 , column=0 ,sticky='w')\n",
    "frame9 = tk.Frame(sport)\n",
    "frame9.grid(row=8 , column=0 ,sticky='w')"
   ]
  },
  {
   "cell_type": "code",
   "execution_count": 4,
   "id": "63888187",
   "metadata": {},
   "outputs": [],
   "source": [
    "label1 = tk.Label(frame1,text='你想要在',font=('Arial',12))\n",
    "label1.grid(row = 0,column = 0,padx = 10,pady = 10,sticky='w')\n",
    "text1 = tk.Text(frame1,width = 10,height = 1)\n",
    "text1.grid(row = 0,column = 1,padx = 10,pady = 10)\n",
    "label2 = tk.Label(frame1,text='週內，達到原先運動量的',font=('Arial',12))\n",
    "label2.grid(row = 0,column = 2,padx = 10,pady = 10,sticky='w')\n",
    "text2 = tk.Text(frame1,width = 10,height = 1)\n",
    "text2.grid(row = 0,column = 3,padx = 10,pady = 10)\n",
    "label3 = tk.Label(frame1,text='%',font=('Arial',12))\n",
    "label3.grid(row = 0,column = 4,padx = 10,pady = 10,sticky='w')"
   ]
  },
  {
   "cell_type": "code",
   "execution_count": 5,
   "id": "eb5e328b",
   "metadata": {},
   "outputs": [],
   "source": [
    "label4 = tk.Label(frame2,text='! 建議 : 週數小於等於五週 !',font=('Arial',12))\n",
    "label4.grid(row = 0,column = 0,padx = 10,pady = 10,sticky='w')\n",
    "label5 = tk.Label(frame2,text='請評估自己的身體素質 :',font=('Arial',12))\n",
    "label5.grid(row = 1,column = 0,padx = 10,pady = 10,sticky='w')\n",
    "button1 = tk.Button(frame2,width = 25,text = '身體素質強(平常有在運動)',font=('Arial',12),command=lambda:Button1_on())\n",
    "button1.grid(row = 1,column = 1,padx = 10,pady = 10)\n",
    "button2 = tk.Button(frame2,width = 25,text = '身體素質低(平常沒在運動)',font=('Arial',12),command=lambda:Button2_on())\n",
    "button2.grid(row = 1,column = 2,padx = 10,pady = 10)\n"
   ]
  },
  {
   "cell_type": "code",
   "execution_count": 6,
   "id": "2eca0442",
   "metadata": {},
   "outputs": [],
   "source": [
    "#身體素質強的人\n",
    "def Button1_on ():             \n",
    "    global week, percent\n",
    "    week = int(((text1.get(\"1.0\",\"end\")).replace(\" \",\"\")).replace(\"\\n\",\"\"))\n",
    "    percent = int(((text2.get(\"1.0\",\"end\")).replace(\" \",\"\")).replace(\"\\n\",\"\"))\n",
    "    y = (-0.4167*week**4)+(5.83338*week**3)+(-29.5833*week**2)+(74.1667*week)\n",
    "    #如果他希望的程度超出建議值，仍讓結果靠近他自己的期望\n",
    "    if(percent>y):\n",
    "        Calculate_c()\n",
    "    #如果他希望的程度低於建議值，則讓結果靠近建議值\n",
    "    else:\n",
    "        Calculate_s()\n",
    "    \n",
    "#身體素質弱的人\n",
    "def Button2_on ():\n",
    "    global week, percent\n",
    "    week = int(((text1.get(\"1.0\",\"end\")).replace(\" \",\"\")).replace(\"\\n\",\"\"))\n",
    "    percent = int(((text2.get(\"1.0\",\"end\")).replace(\" \",\"\")).replace(\"\\n\",\"\"))\n",
    "    y = (-0.4167*week**4)+(5.83338*week**3)+(-29.5833*week**2)+(74.1667*week)\n",
    "    #如果他希望的程度超出建議值，則讓結果靠近建議值\n",
    "    if(percent>y):\n",
    "        Calculate_s()\n",
    "    #如果他希望的程度低於建議值，仍讓結果靠近他自己的期望\n",
    "    else:\n",
    "        Calculate_c()"
   ]
  },
  {
   "cell_type": "code",
   "execution_count": 7,
   "id": "d250b9d6",
   "metadata": {},
   "outputs": [],
   "source": [
    "def F_c(x):             #跟自訂的相似(Customize)\n",
    "    lam = 0.01\n",
    "    c = (-0.4167*x[0]**4)+(5.83338*x[0]**3)+(-29.5833*x[0]**2)+(74.1667*x[0])-x[1]\n",
    "    return (x[0]-week)**2 + (x[1]-percent)**2 + lam*c**2\n",
    "\n",
    "def Calculate_c():\n",
    "    xStart = np.array([0,0])\n",
    "    xMin,nIter = powell(F_c,xStart)\n",
    "    lam = 0.01\n",
    "    c = (-0.4167*xMin[0]**4)+(5.83338*xMin[0]**3)+(-29.5833*xMin[0]**2)+(74.1667*xMin[0])-xMin[1]\n",
    "    \n",
    "    while(round(xMin[0])==0):\n",
    "        xMin[0]+=1\n",
    "    \n",
    "    label5 = tk.Label(frame3,text=('建議您在',round(xMin[0]),'週內增加運動量到原先運動量的',round(xMin[1]),'%'),font=('Arial',12))\n",
    "    label5.grid(row = 0,column = 0,padx = 10,pady = 10,sticky='w')\n",
    "    \n",
    "    \n",
    "def F_s(x):             #跟建議的相似 (suggest)\n",
    "    lam = 800\n",
    "    c = (-0.4167*x[0]**4)+(5.83338*x[0]**3)+(-29.5833*x[0]**2)+(74.1667*x[0])-x[1]\n",
    "    return (x[0]-week)**2 + (x[1]-percent)**2 + lam*c**2\n",
    "\n",
    "def Calculate_s():\n",
    "    xStart = np.array([0,0])\n",
    "    xMin,nIter = powell(F_s,xStart)\n",
    "    lam = 800\n",
    "    c = (-0.4167*xMin[0]**4)+(5.83338*xMin[0]**3)+(-29.5833*xMin[0]**2)+(74.1667*xMin[0])-xMin[1]\n",
    "    while(round(xMin[0])==0):\n",
    "        xMin[0]+=1\n",
    "    \n",
    "    label6 = tk.Label(frame3,text=('建議您在',round(xMin[0]),'週內增加運動量到原先運動量的',round(xMin[1]),'%'),font=('Arial',12))\n",
    "    label6.grid(row = 0,column = 0,padx = 10,pady = 10,sticky='w')\n"
   ]
  },
  {
   "cell_type": "code",
   "execution_count": 8,
   "id": "df73f49c",
   "metadata": {},
   "outputs": [],
   "source": [
    "#算要吃多少健康蛋白質\n",
    "label7 = tk.Label(frame4,text='你的體重',font=('Arial',12))\n",
    "label7.grid(row = 0,column = 0,padx = 10,pady = 10,sticky='w')\n",
    "text3 = tk.Text(frame4,width = 10,height = 1)\n",
    "text3.grid(row = 0,column = 1,padx = 10,pady = 10)\n",
    "label7 = tk.Label(frame5,text='你的今日活動量',font=('Arial',12))\n",
    "label7.grid(row = 0,column = 0,padx = 10,pady = 10,sticky='w')\n",
    "button4 = tk.Button(frame5,width = 10,text = '一般',font=('Arial',12),command=lambda:Button4_on())\n",
    "button4.grid(row = 0,column = 1,padx = 10,pady = 10)\n",
    "button5 = tk.Button(frame5,width = 10,text = '中度活動量',font=('Arial',12),command=lambda:Button5_on())\n",
    "button5.grid(row = 0,column = 2,padx = 10,pady = 10)\n",
    "button5 = tk.Button(frame5,width = 10,text = '高度活動量',font=('Arial',12),command=lambda:Button6_on())\n",
    "button5.grid(row = 0,column = 3,padx = 10,pady = 10)\n",
    "button3 = tk.Button(frame5,width = 25,text = '你今天應該吃多少蛋白質',font=('Arial',12),command=lambda:Button3_on())\n",
    "button3.grid(row = 1,column = 0,padx = 10,pady = 10)"
   ]
  },
  {
   "cell_type": "code",
   "execution_count": 9,
   "id": "02d4ba18",
   "metadata": {},
   "outputs": [],
   "source": [
    "def Button3_on ():\n",
    "    label7 = tk.Label(frame6,text=('你應該吃',int(kg),'克蛋白質'),font=('Arial',12))\n",
    "    label7.grid(row = 0,column = 0,padx = 10,pady = 10,sticky='w')"
   ]
  },
  {
   "cell_type": "code",
   "execution_count": 10,
   "id": "a9dddf35",
   "metadata": {
    "scrolled": true
   },
   "outputs": [],
   "source": [
    "def Button4_on ():   #一般\n",
    "    global kg\n",
    "    kg = int(((text3.get(\"1.0\",\"end\")).replace(\" \",\"\")).replace(\"\\n\",\"\"))\n",
    "    kg = 0.8*kg\n",
    "def Button5_on ():   #中度活動量\n",
    "    global kg\n",
    "    kg = float(((text3.get(\"1.0\",\"end\")).replace(\" \",\"\")).replace(\"\\n\",\"\"))\n",
    "    kg = 1.2*kg\n",
    "def Button6_on ():   #高度活動量\n",
    "    global kg\n",
    "    kg = float(((text3.get(\"1.0\",\"end\")).replace(\" \",\"\")).replace(\"\\n\",\"\"))\n",
    "    kg = 1.6*kg"
   ]
  },
  {
   "cell_type": "code",
   "execution_count": 11,
   "id": "c3314458",
   "metadata": {},
   "outputs": [],
   "source": [
    "label8 = tk.Label(frame6,text='選你想吃的健康蛋白質',font=('Arial',12))\n",
    "label8.grid(row = 1,column = 0,padx = 10,pady = 10,sticky='w')\n",
    "button6 = tk.Button(frame7,width = 10,text = '一顆蛋',font=('Arial',12),command=lambda:Button6_on())\n",
    "button6.grid(row = 0,column = 0,padx = 10,pady = 10)\n",
    "button7 = tk.Button(frame7,width = 10,text = '半塊豆腐',font=('Arial',12),command=lambda:Button7_on())\n",
    "button7.grid(row = 0,column = 1,padx = 10,pady = 10)\n",
    "button8 = tk.Button(frame7,width = 10,text = '一杯豆漿',font=('Arial',12),command=lambda:Button8_on())\n",
    "button8.grid(row = 0,column = 2,padx = 10,pady = 10)\n",
    "button9 = tk.Button(frame7,width = 10,text = '一片雞胸',font=('Arial',12),command=lambda:Button9_on())\n",
    "button9.grid(row = 0,column = 3,padx = 10,pady = 10)\n",
    "button10 = tk.Button(frame7,width = 10,text = '一隻雞腿',font=('Arial',12),command=lambda:Button10_on())\n",
    "button10.grid(row = 1,column = 0,padx = 10,pady = 10)\n",
    "button11 = tk.Button(frame7,width = 10,text = '一片鮭魚',font=('Arial',12),command=lambda:Button11_on())\n",
    "button11.grid(row = 1,column = 1,padx = 10,pady = 10)\n",
    "button12 = tk.Button(frame7,width = 10,text = '100克毛豆',font=('Arial',12),command=lambda:Button12_on())\n",
    "button12.grid(row = 1,column = 2,padx = 10,pady = 10)\n",
    "button13 = tk.Button(frame7,width = 10,text = '一紙杯牛奶',font=('Arial',12),command=lambda:Button13_on())\n",
    "button13.grid(row = 1,column = 3,padx = 10,pady = 10)\n",
    "button14 = tk.Button(frame8,width = 10,text = '結算',font=('Arial',12),command=lambda:Button14_on())\n",
    "button14.grid(row = 0,column = 0,padx = 10,pady = 10)"
   ]
  },
  {
   "cell_type": "code",
   "execution_count": 12,
   "id": "e634945d",
   "metadata": {},
   "outputs": [],
   "source": [
    "def Button6_on ():\n",
    "    global kg\n",
    "    kg -= 6\n",
    "def Button7_on ():\n",
    "    global kg\n",
    "    kg -= 7\n",
    "def Button8_on ():\n",
    "    global kg\n",
    "    kg -= 10\n",
    "def Button9_on ():\n",
    "    global kg\n",
    "    kg -= 25\n",
    "def Button10_on ():\n",
    "    global kg\n",
    "    kg -= 20\n",
    "def Button11_on ():\n",
    "    global kg\n",
    "    kg -= 24\n",
    "def Button12_on ():\n",
    "    global kg\n",
    "    kg -= 12\n",
    "def Button13_on ():\n",
    "    global kg\n",
    "    kg -= 10\n",
    "def Button14_on ():\n",
    "    global kg\n",
    "    if(kg<0):\n",
    "        label8 = tk.Label(frame9,text=('你攝取過量了，超過',abs(kg),'克'),font=('Arial',12))\n",
    "        label8.grid(row = 0,column = 0,padx = 10,pady = 10,sticky='w')\n",
    "    else:\n",
    "        label9 = tk.Label(frame9,text=('你攝取不足，還差',kg,'克'),font=('Arial',12))\n",
    "        label9.grid(row = 0,column = 0,padx = 10,pady = 10,sticky='w')"
   ]
  },
  {
   "cell_type": "code",
   "execution_count": 13,
   "id": "ab445cba",
   "metadata": {
    "scrolled": true
   },
   "outputs": [
    {
     "name": "stderr",
     "output_type": "stream",
     "text": [
      "Exception in Tkinter callback\n",
      "Traceback (most recent call last):\n",
      "  File \"C:\\Users\\polly\\anaconda3\\lib\\tkinter\\__init__.py\", line 1892, in __call__\n",
      "    return self.func(*args)\n",
      "  File \"C:\\Users\\polly\\AppData\\Local\\Temp/ipykernel_6932/598232915.py\", line 3, in <lambda>\n",
      "    button6 = tk.Button(frame7,width = 10,text = '一顆蛋',font=('Arial',12),command=lambda:Button6_on())\n",
      "  File \"C:\\Users\\polly\\AppData\\Local\\Temp/ipykernel_6932/2158959171.py\", line 3, in Button6_on\n",
      "    kg -= 6\n",
      "NameError: name 'kg' is not defined\n"
     ]
    }
   ],
   "source": [
    "sport.mainloop()"
   ]
  },
  {
   "cell_type": "code",
   "execution_count": null,
   "id": "25bb26a8",
   "metadata": {},
   "outputs": [],
   "source": []
  }
 ],
 "metadata": {
  "kernelspec": {
   "display_name": "Python 3 (ipykernel)",
   "language": "python",
   "name": "python3"
  },
  "language_info": {
   "codemirror_mode": {
    "name": "ipython",
    "version": 3
   },
   "file_extension": ".py",
   "mimetype": "text/x-python",
   "name": "python",
   "nbconvert_exporter": "python",
   "pygments_lexer": "ipython3",
   "version": "3.9.7"
  }
 },
 "nbformat": 4,
 "nbformat_minor": 5
}
